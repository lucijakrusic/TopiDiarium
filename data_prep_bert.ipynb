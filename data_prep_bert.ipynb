{
 "cells": [
  {
   "cell_type": "code",
   "execution_count": 68,
   "metadata": {},
   "outputs": [],
   "source": [
    "import pandas as pd\n",
    "import glob\n",
    "import os"
   ]
  },
  {
   "cell_type": "code",
   "execution_count": 69,
   "metadata": {},
   "outputs": [
    {
     "name": "stdout",
     "output_type": "stream",
     "text": [
      "text_files_no_obituaries_unprocessed\n"
     ]
    }
   ],
   "source": [
    "input_dir = 'text_files_no_obituaries_unprocessed'\n",
    "dataframe_filename = \"txts_bert.p\"\n",
    "print(input_dir)"
   ]
  },
  {
   "cell_type": "code",
   "execution_count": 70,
   "metadata": {},
   "outputs": [
    {
     "name": "stdout",
     "output_type": "stream",
     "text": [
      "found 299 texts\n"
     ]
    }
   ],
   "source": [
    "text_file_names = [file for file in os.listdir(input_dir) if file.endswith('.txt')]\n",
    "print(\"found {} texts\".format(len(text_file_names)))"
   ]
  },
  {
   "cell_type": "code",
   "execution_count": 71,
   "metadata": {},
   "outputs": [
    {
     "name": "stdout",
     "output_type": "stream",
     "text": [
      "loaded 299 texts\n"
     ]
    }
   ],
   "source": [
    "texts = []\n",
    "for text_file_name in text_file_names:\n",
    "    with open(f'{input_dir}/{text_file_name}', \"r\", encoding=\"utf-16\") as input_file:\n",
    "        texts.append([text_file_name[:-4], input_file.read()])\n",
    "print(\"loaded {} texts\".format(len(texts)))"
   ]
  },
  {
   "cell_type": "code",
   "execution_count": 72,
   "metadata": {},
   "outputs": [],
   "source": [
    "columns = ['date', 'text']\n",
    "texts_df = pd.DataFrame(texts, columns = columns)"
   ]
  },
  {
   "cell_type": "code",
   "execution_count": 73,
   "metadata": {},
   "outputs": [
    {
     "data": {
      "text/plain": [
       "Index(['date', 'text'], dtype='object')"
      ]
     },
     "execution_count": 73,
     "metadata": {},
     "output_type": "execute_result"
    }
   ],
   "source": [
    "texts_df.columns"
   ]
  },
  {
   "cell_type": "code",
   "execution_count": 74,
   "metadata": {},
   "outputs": [
    {
     "data": {
      "text/html": [
       "<div>\n",
       "<style scoped>\n",
       "    .dataframe tbody tr th:only-of-type {\n",
       "        vertical-align: middle;\n",
       "    }\n",
       "\n",
       "    .dataframe tbody tr th {\n",
       "        vertical-align: top;\n",
       "    }\n",
       "\n",
       "    .dataframe thead th {\n",
       "        text-align: right;\n",
       "    }\n",
       "</style>\n",
       "<table border=\"1\" class=\"dataframe\">\n",
       "  <thead>\n",
       "    <tr style=\"text-align: right;\">\n",
       "      <th></th>\n",
       "      <th>date</th>\n",
       "      <th>text</th>\n",
       "    </tr>\n",
       "  </thead>\n",
       "  <tbody>\n",
       "    <tr>\n",
       "      <th>0</th>\n",
       "      <td>1703-08-13</td>\n",
       "      <td>Auss Wienn von  biss  Augusti 1703. DEn  dito ...</td>\n",
       "    </tr>\n",
       "    <tr>\n",
       "      <th>1</th>\n",
       "      <td>1703-08-17</td>\n",
       "      <td>Auss Wienn vom  biss  Augusti, 1703. DEn  Augu...</td>\n",
       "    </tr>\n",
       "    <tr>\n",
       "      <th>2</th>\n",
       "      <td>1703-08-20</td>\n",
       "      <td>Auss Wienn vom  biss  Augusti, 1703. DEn  dito...</td>\n",
       "    </tr>\n",
       "    <tr>\n",
       "      <th>3</th>\n",
       "      <td>1703-11-19</td>\n",
       "      <td>Wienn vom  biss  Novembris 1703. MJittwoch den...</td>\n",
       "    </tr>\n",
       "    <tr>\n",
       "      <th>4</th>\n",
       "      <td>1705-01-03</td>\n",
       "      <td>Wienn vom  biss  Jenner 1705. SAmbstag den  Je...</td>\n",
       "    </tr>\n",
       "    <tr>\n",
       "      <th>...</th>\n",
       "      <td>...</td>\n",
       "      <td>...</td>\n",
       "    </tr>\n",
       "    <tr>\n",
       "      <th>294</th>\n",
       "      <td>1796-06-18</td>\n",
       "      <td>1783   Wiener Zeitung. Sonnabend, den  Junius ...</td>\n",
       "    </tr>\n",
       "    <tr>\n",
       "      <th>295</th>\n",
       "      <td>1798-09-22</td>\n",
       "      <td>2861 N  ro  .  Mit  allergnä digsterFreiheit| ...</td>\n",
       "    </tr>\n",
       "    <tr>\n",
       "      <th>296</th>\n",
       "      <td>1798-09-26</td>\n",
       "      <td>2901 N  ro  .  Mit   allergnä digster Freiheit...</td>\n",
       "    </tr>\n",
       "    <tr>\n",
       "      <th>297</th>\n",
       "      <td>1798-09-29</td>\n",
       "      <td>2941   Mit   allergnädigster Freiheit. Wiener ...</td>\n",
       "    </tr>\n",
       "    <tr>\n",
       "      <th>298</th>\n",
       "      <td>1798-10-03</td>\n",
       "      <td>2981 N ro Mit   allergnä digster Freiheit.| Mi...</td>\n",
       "    </tr>\n",
       "  </tbody>\n",
       "</table>\n",
       "<p>299 rows × 2 columns</p>\n",
       "</div>"
      ],
      "text/plain": [
       "           date                                               text\n",
       "0    1703-08-13  Auss Wienn von  biss  Augusti 1703. DEn  dito ...\n",
       "1    1703-08-17  Auss Wienn vom  biss  Augusti, 1703. DEn  Augu...\n",
       "2    1703-08-20  Auss Wienn vom  biss  Augusti, 1703. DEn  dito...\n",
       "3    1703-11-19  Wienn vom  biss  Novembris 1703. MJittwoch den...\n",
       "4    1705-01-03  Wienn vom  biss  Jenner 1705. SAmbstag den  Je...\n",
       "..          ...                                                ...\n",
       "294  1796-06-18  1783   Wiener Zeitung. Sonnabend, den  Junius ...\n",
       "295  1798-09-22  2861 N  ro  .  Mit  allergnä digsterFreiheit| ...\n",
       "296  1798-09-26  2901 N  ro  .  Mit   allergnä digster Freiheit...\n",
       "297  1798-09-29  2941   Mit   allergnädigster Freiheit. Wiener ...\n",
       "298  1798-10-03  2981 N ro Mit   allergnä digster Freiheit.| Mi...\n",
       "\n",
       "[299 rows x 2 columns]"
      ]
     },
     "execution_count": 74,
     "metadata": {},
     "output_type": "execute_result"
    }
   ],
   "source": [
    "texts_df"
   ]
  },
  {
   "cell_type": "code",
   "execution_count": 75,
   "metadata": {},
   "outputs": [],
   "source": [
    "\n",
    "import nltk\n",
    "from nltk.tokenize import sent_tokenize\n"
   ]
  },
  {
   "cell_type": "code",
   "execution_count": 76,
   "metadata": {},
   "outputs": [],
   "source": [
    "new_rows = []\n",
    "for _, row in texts_df.iterrows():\n",
    "    sentences = sent_tokenize(row['text'])\n",
    "    for sentence in sentences:\n",
    "        new_rows.append({'date': row['date'], 'text': sentence})\n",
    "\n",
    "df_tokenized = pd.DataFrame(new_rows)"
   ]
  },
  {
   "cell_type": "code",
   "execution_count": 77,
   "metadata": {},
   "outputs": [
    {
     "data": {
      "text/html": [
       "<div>\n",
       "<style scoped>\n",
       "    .dataframe tbody tr th:only-of-type {\n",
       "        vertical-align: middle;\n",
       "    }\n",
       "\n",
       "    .dataframe tbody tr th {\n",
       "        vertical-align: top;\n",
       "    }\n",
       "\n",
       "    .dataframe thead th {\n",
       "        text-align: right;\n",
       "    }\n",
       "</style>\n",
       "<table border=\"1\" class=\"dataframe\">\n",
       "  <thead>\n",
       "    <tr style=\"text-align: right;\">\n",
       "      <th></th>\n",
       "      <th>date</th>\n",
       "      <th>text</th>\n",
       "    </tr>\n",
       "  </thead>\n",
       "  <tbody>\n",
       "    <tr>\n",
       "      <th>0</th>\n",
       "      <td>1703-08-13</td>\n",
       "      <td>Auss Wienn von  biss  Augusti 1703.</td>\n",
       "    </tr>\n",
       "    <tr>\n",
       "      <th>1</th>\n",
       "      <td>1703-08-13</td>\n",
       "      <td>DEn  dito hat man dass die Land Militz welche ...</td>\n",
       "    </tr>\n",
       "    <tr>\n",
       "      <th>2</th>\n",
       "      <td>1703-08-13</td>\n",
       "      <td>Wie verlautet seynd  Käyserl.</td>\n",
       "    </tr>\n",
       "    <tr>\n",
       "      <th>3</th>\n",
       "      <td>1703-08-13</td>\n",
       "      <td>in   stehende Regimenter beordert ihren March ...</td>\n",
       "    </tr>\n",
       "    <tr>\n",
       "      <th>4</th>\n",
       "      <td>1703-08-13</td>\n",
       "      <td>Gestern ist ein Courier von der Armée auss Jta...</td>\n",
       "    </tr>\n",
       "    <tr>\n",
       "      <th>...</th>\n",
       "      <td>...</td>\n",
       "      <td>...</td>\n",
       "    </tr>\n",
       "    <tr>\n",
       "      <th>79777</th>\n",
       "      <td>1798-10-03</td>\n",
       "      <td>Praktische französische Grammatik, wodurch man...</td>\n",
       "    </tr>\n",
       "    <tr>\n",
       "      <th>79778</th>\n",
       "      <td>1798-10-03</td>\n",
       "      <td>Von Johann Valentin Meidinger, Lehrer der fran...</td>\n",
       "    </tr>\n",
       "    <tr>\n",
       "      <th>79779</th>\n",
       "      <td>1798-10-03</td>\n",
       "      <td>Fünfzehnte durchaus verbesserte und nach Waill...</td>\n",
       "    </tr>\n",
       "    <tr>\n",
       "      <th>79780</th>\n",
       "      <td>1798-10-03</td>\n",
       "      <td>Frankfurt und Leipzig 1799.</td>\n",
       "    </tr>\n",
       "    <tr>\n",
       "      <th>79781</th>\n",
       "      <td>1798-10-03</td>\n",
       "      <td>38 Bogen stark, auf schönen weissen Druckpapie...</td>\n",
       "    </tr>\n",
       "  </tbody>\n",
       "</table>\n",
       "<p>79782 rows × 2 columns</p>\n",
       "</div>"
      ],
      "text/plain": [
       "             date                                               text\n",
       "0      1703-08-13                Auss Wienn von  biss  Augusti 1703.\n",
       "1      1703-08-13  DEn  dito hat man dass die Land Militz welche ...\n",
       "2      1703-08-13                      Wie verlautet seynd  Käyserl.\n",
       "3      1703-08-13  in   stehende Regimenter beordert ihren March ...\n",
       "4      1703-08-13  Gestern ist ein Courier von der Armée auss Jta...\n",
       "...           ...                                                ...\n",
       "79777  1798-10-03  Praktische französische Grammatik, wodurch man...\n",
       "79778  1798-10-03  Von Johann Valentin Meidinger, Lehrer der fran...\n",
       "79779  1798-10-03  Fünfzehnte durchaus verbesserte und nach Waill...\n",
       "79780  1798-10-03                        Frankfurt und Leipzig 1799.\n",
       "79781  1798-10-03  38 Bogen stark, auf schönen weissen Druckpapie...\n",
       "\n",
       "[79782 rows x 2 columns]"
      ]
     },
     "execution_count": 77,
     "metadata": {},
     "output_type": "execute_result"
    }
   ],
   "source": [
    "df_tokenized"
   ]
  },
  {
   "cell_type": "code",
   "execution_count": 79,
   "metadata": {},
   "outputs": [],
   "source": [
    "df_tokenized.to_pickle('input_files/     df_tokenized.pk')"
   ]
  }
 ],
 "metadata": {
  "kernelspec": {
   "display_name": "digitarium",
   "language": "python",
   "name": "python3"
  },
  "language_info": {
   "codemirror_mode": {
    "name": "ipython",
    "version": 3
   },
   "file_extension": ".py",
   "mimetype": "text/x-python",
   "name": "python",
   "nbconvert_exporter": "python",
   "pygments_lexer": "ipython3",
   "version": "3.9.13"
  },
  "orig_nbformat": 4
 },
 "nbformat": 4,
 "nbformat_minor": 2
}
